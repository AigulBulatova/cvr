{
 "cells": [
  {
   "cell_type": "code",
   "execution_count": 1,
   "id": "54413d95-4c69-43d1-a2e9-015938b82e50",
   "metadata": {},
   "outputs": [],
   "source": [
    "import numpy as np\n",
    "import cv2"
   ]
  },
  {
   "cell_type": "code",
   "execution_count": 29,
   "id": "b6328999-b383-4b43-ae0e-7220558a12e4",
   "metadata": {},
   "outputs": [
    {
     "data": {
      "text/plain": [
       "-1"
      ]
     },
     "execution_count": 29,
     "metadata": {},
     "output_type": "execute_result"
    }
   ],
   "source": [
    "\n",
    "\n",
    "cam = cv2.VideoCapture(0)\n",
    "\n",
    "succ, frame = cam.read()\n",
    "\n",
    "if (succ == False):\n",
    "    print(\"Cam not opening\")\n",
    "    assert(False)\n",
    "\n",
    "backgr = np.zeros_like(frame)\n",
    "new_bg = cv2.imread('new.jpg')\n",
    "\n",
    "while(True):\n",
    "    succ, frame = cam.read()\n",
    "    \n",
    "    if (succ == False):\n",
    "        break\n",
    "    \n",
    "    backgr = cv2.addWeighted(backgr, 0.9, frame, 0.1, 0)\n",
    "    diff = cv2.absdiff(backgr, frame)\n",
    "    \n",
    "    mask = cv2.inRange(diff, (30, 20, 20), (255, 255, 255))\n",
    "    mask1 = np.ones_like(frame) * 255\n",
    "    w, h, _ = frame.shape\n",
    "    center = (h // 2, w // 2)\n",
    "\n",
    "    mixed_clone = cv2.seamlessClone(frame, new_bg, mask1, center, cv2.MIXED_CLONE)\n",
    "    \n",
    "    \n",
    "    cv2.imshow(\"mask\", mask)\n",
    "    cv2.imshow('clone', mixed_clone)\n",
    "    key = cv2.waitKey(50)\n",
    "    \n",
    "    if (key == ord('q')):\n",
    "        break\n",
    "\n",
    "cam.release()\n",
    "cv2.destroyAllWindows()\n",
    "cv2.waitKey(10)"
   ]
  }
 ],
 "metadata": {
  "kernelspec": {
   "display_name": "Python 3 (ipykernel)",
   "language": "python",
   "name": "python3"
  },
  "language_info": {
   "codemirror_mode": {
    "name": "ipython",
    "version": 3
   },
   "file_extension": ".py",
   "mimetype": "text/x-python",
   "name": "python",
   "nbconvert_exporter": "python",
   "pygments_lexer": "ipython3",
   "version": "3.11.4"
  }
 },
 "nbformat": 4,
 "nbformat_minor": 5
}
