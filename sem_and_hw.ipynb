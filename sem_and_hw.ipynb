{
 "cells": [
  {
   "cell_type": "code",
   "execution_count": 3,
   "id": "36eb097e-5580-483c-943a-09a59d1f746a",
   "metadata": {},
   "outputs": [],
   "source": [
    "import cv2\n",
    "import matplotlib.pyplot as plt"
   ]
  },
  {
   "cell_type": "code",
   "execution_count": null,
   "id": "caa7f83b-7ce3-4ea5-83c4-19ca68799cdd",
   "metadata": {},
   "outputs": [],
   "source": [
    "video_path = \"black_objects.mp4\"\n",
    "cam = cv2.VideoCapture(video_path)\n",
    "\n",
    "cv2.namedWindow('mask')\n",
    "cv2.createTrackbar('high_blue', 'mask', 255, 255, lambda i: i)\n",
    "cv2.createTrackbar('low_blue', 'mask', 5, 255, lambda i: i)\n",
    "\n",
    "cv2.createTrackbar('high_green', 'mask', 255, 255, lambda i: i)\n",
    "cv2.createTrackbar('low_green', 'mask', 5, 255, lambda i: i)\n",
    "\n",
    "cv2.createTrackbar('high_red', 'mask', 255, 255, lambda i: i)\n",
    "cv2.createTrackbar('low_red', 'mask', 5, 255, lambda i: i)\n",
    "\n",
    "while(True):\n",
    "    success, frame = cam.read()\n",
    "    if success == False:\n",
    "        cam.release()\n",
    "        cam = cv2.VideoCapture(video_path)\n",
    "        continue\n",
    "\n",
    "    hb = cv2.getTrackbarPos( 'high_blue', 'mask')\n",
    "    lb = cv2.getTrackbarPos( 'low_blue', 'mask')\n",
    "\n",
    "    hg = cv2.getTrackbarPos( 'high_green', 'mask')\n",
    "    lg = cv2.getTrackbarPos( 'low_green', 'mask')\n",
    "\n",
    "    hr = cv2.getTrackbarPos( 'high_red', 'mask')\n",
    "    lr = cv2.getTrackbarPos( 'low_red', 'mask')\n",
    "    mask = cv2.inRange(frame, (lb, lg, lr), (hb, hr, hb))\n",
    "\n",
    "    connectivity = 4  \n",
    "    \n",
    "    output = cv2.connectedComponentsWithStats(mask, connectivity, cv2.CV_32S)\n",
    "    num_labels = output[0]\n",
    "    labels = output[1]\n",
    "    stats = output[2]\n",
    "    centroids = output[3]\n",
    "\n",
    "    areas = []\n",
    "\n",
    "    for i in range(num_labels):\n",
    "        t = stats[i, cv2.CC_STAT_TOP]\n",
    "        l = stats[i, cv2.CC_STAT_LEFT]\n",
    "        w = stats[i, cv2.CC_STAT_WIDTH]\n",
    "        h = stats[i, cv2.CC_STAT_HEIGHT]\n",
    "        a = stats[i, cv2.CC_STAT_AREA]\n",
    "\n",
    "        if a > 30:\n",
    "            cv2.rectangle(frame, (l, t), (l + w, t + h), (23, 34, 234), 3)\n",
    "            areas.append(a)\n",
    "    \n",
    "    cv2.imshow(\"frame_lalalalala\", frame)\n",
    "    cv2.imshow('mask', mask)\n",
    "    \n",
    "    key = cv2.waitKey(50) & 0xFF\n",
    "    if (key == ord('q')):\n",
    "        break\n",
    "\n",
    "cam.release()\n",
    "cv2.destroyAllWindows()\n",
    "cv2.waitKey(10)"
   ]
  },
  {
   "cell_type": "code",
   "execution_count": null,
   "id": "e46621d9-4179-46e6-997a-500882c3c293",
   "metadata": {},
   "outputs": [],
   "source": []
  },
  {
   "cell_type": "code",
   "execution_count": null,
   "id": "e8fb5bf3-5f6f-422e-9903-244a658bb449",
   "metadata": {},
   "outputs": [],
   "source": []
  }
 ],
 "metadata": {
  "kernelspec": {
   "display_name": "Python 3 (ipykernel)",
   "language": "python",
   "name": "python3"
  },
  "language_info": {
   "codemirror_mode": {
    "name": "ipython",
    "version": 3
   },
   "file_extension": ".py",
   "mimetype": "text/x-python",
   "name": "python",
   "nbconvert_exporter": "python",
   "pygments_lexer": "ipython3",
   "version": "3.11.4"
  }
 },
 "nbformat": 4,
 "nbformat_minor": 5
}
